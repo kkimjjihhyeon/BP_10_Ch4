{
  "nbformat": 4,
  "nbformat_minor": 0,
  "metadata": {
    "colab": {
      "provenance": [],
      "authorship_tag": "ABX9TyMdNrF3fM6Sy846LDe/Rd1P",
      "include_colab_link": true
    },
    "kernelspec": {
      "name": "python3",
      "display_name": "Python 3"
    },
    "language_info": {
      "name": "python"
    }
  },
  "cells": [
    {
      "cell_type": "markdown",
      "metadata": {
        "id": "view-in-github",
        "colab_type": "text"
      },
      "source": [
        "<a href=\"https://colab.research.google.com/github/kkimjjihhyeon/BP_10_Ch4/blob/main/%ED%8C%8C%EC%9D%B4%EC%8D%AC_4%EC%9E%A5_%EB%AC%B8%EC%A0%9C.ipynb\" target=\"_parent\"><img src=\"https://colab.research.google.com/assets/colab-badge.svg\" alt=\"Open In Colab\"/></a>"
      ]
    },
    {
      "cell_type": "code",
      "execution_count": 2,
      "metadata": {
        "colab": {
          "base_uri": "https://localhost:8080/"
        },
        "id": "aqgtwuftHXEL",
        "outputId": "e3bb0bd3-8af8-4509-b10f-c1d5a0331b00"
      },
      "outputs": [
        {
          "output_type": "stream",
          "name": "stdout",
          "text": [
            "나는 12개의 사과를 먹었다.\n"
          ]
        }
      ],
      "source": [
        "print(\"나는 \"+ str(12)+ \"개의 사과를 먹었다.\")"
      ]
    },
    {
      "cell_type": "code",
      "source": [
        "print('apple'+'grape')\n",
        "print('apple '*3)"
      ],
      "metadata": {
        "colab": {
          "base_uri": "https://localhost:8080/"
        },
        "id": "uyPbHH3BIUan",
        "outputId": "0701d191-428c-4508-a78f-b8c70aa5e8fa"
      },
      "execution_count": 4,
      "outputs": [
        {
          "output_type": "stream",
          "name": "stdout",
          "text": [
            "applegrape\n",
            "apple apple apple \n"
          ]
        }
      ]
    },
    {
      "cell_type": "code",
      "source": [
        "s = input(\"문자열을 입력하시오 : \")\n",
        "print(s[0:2] + s[-2:])"
      ],
      "metadata": {
        "colab": {
          "base_uri": "https://localhost:8080/"
        },
        "id": "E4YbccUqIt13",
        "outputId": "22a60d19-f1d9-4aab-c79d-19d574986518"
      },
      "execution_count": 5,
      "outputs": [
        {
          "output_type": "stream",
          "name": "stdout",
          "text": [
            "문자열을 입력하시오 : python\n",
            "pyon\n"
          ]
        }
      ]
    },
    {
      "cell_type": "code",
      "source": [
        "s = input(\"문자열을 입력하시오 : \")\n",
        "print(s + '하는 중')"
      ],
      "metadata": {
        "colab": {
          "base_uri": "https://localhost:8080/"
        },
        "id": "M1xECJCVJDLm",
        "outputId": "116b1ac6-36ba-4ee9-e6b6-a1e9b0c9744f"
      },
      "execution_count": 6,
      "outputs": [
        {
          "output_type": "stream",
          "name": "stdout",
          "text": [
            "문자열을 입력하시오 : 청소\n",
            "청소하는 중\n"
          ]
        }
      ]
    },
    {
      "cell_type": "code",
      "source": [
        "s = input(\"기호를 입력하시오 : \")\n",
        "m = input(\"중간에 삽입할 문자열을 입력하시오 : \")\n",
        "print(s[0] + m + s[1])"
      ],
      "metadata": {
        "colab": {
          "base_uri": "https://localhost:8080/"
        },
        "id": "lcDJJyQyJxOn",
        "outputId": "aec5bfd2-cb8f-4d75-9efd-2921100876d9"
      },
      "execution_count": 9,
      "outputs": [
        {
          "output_type": "stream",
          "name": "stdout",
          "text": [
            "기호를 입력하시오 : []\n",
            "중간에 삽입할 문자열을 입력하시오 : python\n",
            "[python]\n"
          ]
        }
      ]
    },
    {
      "cell_type": "code",
      "source": [
        "list1= [1,2,3,4]\n",
        "print(\"리스트= [1,2,3,4]\")\n",
        "\n",
        "sum1= list1[0] + list1[1] + list1[2] + list1[3]\n",
        "\n",
        "print(\"리스트 숫자들의 합=\" + str(sum1))"
      ],
      "metadata": {
        "colab": {
          "base_uri": "https://localhost:8080/"
        },
        "id": "G4IolbVNKFfG",
        "outputId": "bf2e0e7d-540a-4b2f-ceeb-be9621701240"
      },
      "execution_count": 10,
      "outputs": [
        {
          "output_type": "stream",
          "name": "stdout",
          "text": [
            "리스트= [1,2,3,4]\n",
            "리스트 숫자들의 합=10\n"
          ]
        }
      ]
    },
    {
      "cell_type": "code",
      "source": [],
      "metadata": {
        "id": "dlfX6_43KmDV"
      },
      "execution_count": null,
      "outputs": []
    }
  ]
}